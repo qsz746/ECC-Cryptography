{
 "cells": [
  {
   "cell_type": "markdown",
   "id": "2e468b84",
   "metadata": {},
   "source": [
    "# ECDH Key Exchange\n"
   ]
  },
  {
   "cell_type": "code",
   "execution_count": 1,
   "id": "ca640315",
   "metadata": {},
   "outputs": [
    {
     "name": "stdout",
     "output_type": "stream",
     "text": [
      "Alice public key: 0x6031cd5f0344df2a37764a11a1cc465896187180c573379c81275447cec337731\n",
      "Bob public key: 0x34ba59c75ec50ee7b65214072109f8d87cf71510f34eb7ec313898a7126aa2d51\n",
      "\n",
      "\n",
      "Alice shared key: 0x5811a35e6b5b9390dae724670134637bf26e151fd9702a632eba342bf67f2a3a1\n",
      "\n",
      "\n",
      "Bob shared key: 0x5811a35e6b5b9390dae724670134637bf26e151fd9702a632eba342bf67f2a3a1\n",
      "\n",
      "\n",
      "Equal shared keys: True\n"
     ]
    }
   ],
   "source": [
    "from tinyec import registry\n",
    "import secrets\n",
    "\n",
    "def compress(pubKey):\n",
    "    return hex(pubKey.x) + hex(pubKey.y % 2)[2:]\n",
    "\n",
    "curve = registry.get_curve('brainpoolP256r1')\n",
    "\n",
    "# Alice generates a random secret key\n",
    "AlicePrivKey = secrets.randbelow(curve.field.n)\n",
    "# Alice gets her pub key \n",
    "AlicePubKey = AlicePrivKey * curve.g\n",
    "print(\"Alice public key:\", compress(AlicePubKey))\n",
    "\n",
    "# Bob generates a random secret key\n",
    "BobPrivKey = secrets.randbelow(curve.field.n)\n",
    "# Bob gets his pub key, which is a point\n",
    "BobPubKey = BobPrivKey * curve.g\n",
    "print(\"Bob public key:\", compress(BobPubKey))\n",
    "print(\"\\n\")\n",
    "\n",
    "\n",
    "AliceSharedKey = AlicePrivKey * BobPubKey\n",
    "print(\"Alice shared key:\", compress(AliceSharedKey))\n",
    "print(\"\\n\")\n",
    "\n",
    "BobSharedKey = BobPrivKey * AlicePubKey\n",
    "print(\"Bob shared key:\", compress(BobSharedKey))\n",
    "\n",
    "print(\"\\n\")\n",
    "print(\"Equal shared keys:\", AliceSharedKey == BobSharedKey)\n",
    "\n"
   ]
  }
 ],
 "metadata": {
  "kernelspec": {
   "display_name": "Python 3",
   "language": "python",
   "name": "python3"
  },
  "language_info": {
   "codemirror_mode": {
    "name": "ipython",
    "version": 3
   },
   "file_extension": ".py",
   "mimetype": "text/x-python",
   "name": "python",
   "nbconvert_exporter": "python",
   "pygments_lexer": "ipython3",
   "version": "3.8.2"
  }
 },
 "nbformat": 4,
 "nbformat_minor": 5
}
