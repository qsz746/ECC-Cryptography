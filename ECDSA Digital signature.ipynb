{
 "cells": [
  {
   "cell_type": "markdown",
   "id": "0f8a3f47",
   "metadata": {},
   "source": [
    "# ECDSA Digital signature"
   ]
  },
  {
   "cell_type": "code",
   "execution_count": 1,
   "id": "d275ac20",
   "metadata": {},
   "outputs": [],
   "source": [
    "import pycoin\n",
    "from pycoin.ecdsa import secp256k1\n",
    "from pycoin.ecdsa import Generator\n",
    "import hashlib, secrets\n",
    "\n",
    "\n",
    "def sha3_256Hash(msg):\n",
    "    hashBytes = hashlib.sha3_256(msg.encode(\"utf8\")).digest()\n",
    "    return int.from_bytes(hashBytes, byteorder=\"big\")\n",
    "\n",
    "def signECDSAsecp256k1(msg, privKey):\n",
    "    msgHash = sha3_256Hash(msg)    \n",
    "# ECDSA verify signature (using the curve secp256k1 + SHA3-256)\n",
    "#ECDSA signature {r, s}\n",
    "    signature = secp256k1.secp256k1_generator.sign(BobPrivKey, msgHash)\n",
    "    return signature\n",
    "\n",
    "def verifyECDSAsecp256k1(msg, signature, pubKey):\n",
    "    msgHash = sha3_256Hash(msg)\n",
    "    valid = secp256k1.secp256k1_generator.verify(pubKey,msgHash,signature)\n",
    "    return valid\n",
    "   "
   ]
  },
  {
   "cell_type": "code",
   "execution_count": 2,
   "id": "541033e8",
   "metadata": {},
   "outputs": [
    {
     "name": "stdout",
     "output_type": "stream",
     "text": [
      "Message: Message for ECDSA signing\n",
      "Private key: 0x61eb5fb4f63b2f27ddd8cc6bcdf5bd4697b699488c1c30cdf2a2f91c599cef52\n",
      "Signature: r=0x9d7b53658d831d504bfdaaf8779219ed85383f5b874079ef7e176dfb8302bc03, s=0x54f57ba5b5c8d874fc5f5f10c0f5678a034fc0f779105aea7f714995d0871a74\n",
      "\n",
      "\n",
      "\n",
      "Message: Message for ECDSA signing\n",
      "Public key: (0x42f637ba45f1e3107de041b416f3e550eb6c393f1de80317aa52205e3c9240fa, 0xed3f51dc10e3aa45aef7404531323325260ae89847a6b0417a319203fb696150)\n",
      "Signature valid? True\n",
      "\n",
      "\n",
      "\n",
      "Message: Tampered message\n",
      "Signature (tampered msg) valid? False\n"
     ]
    }
   ],
   "source": [
    "# ECDSA sign message (using the curve secp256k1 + SHA3-256)\n",
    "msg = \"Message for ECDSA signing\"\n",
    "\n",
    "\n",
    "#Bob generates a private key\n",
    "BobPrivKey = secrets.randbelow(secp256k1.secp256k1_generator.order())\n",
    "signature = signECDSAsecp256k1(msg, BobPrivKey)\n",
    "print(\"Message:\", msg)\n",
    "print(\"Private key:\", hex(BobPrivKey))\n",
    "print(\"Signature: r=\" + hex(signature[0]) + \", s=\" + hex(signature[1]))\n",
    "print(\"\\n\")\n",
    "\n",
    "\n",
    "BobPubKey = secp256k1.secp256k1_generator.Point(secp256k1._Gx,secp256k1._Gy)*BobPrivKey\n",
    "\n",
    "\n",
    "valid = verifyECDSAsecp256k1(msg, signature, BobPubKey)\n",
    "print(\"\\nMessage:\", msg)\n",
    "print(\"Public key: (\" + hex(BobPubKey[0]) + \", \" + hex(BobPubKey[1]) + \")\")\n",
    "print(\"Signature valid?\", valid)\n",
    "print(\"\\n\")\n",
    "\n",
    "\n",
    "# ECDSA verify tampered signature (using the curve secp256k1 + SHA3-256)\n",
    "msg = \"Tampered message\"\n",
    "valid = verifyECDSAsecp256k1(msg, signature, BobPubKey)\n",
    "print(\"\\nMessage:\", msg)\n",
    "print(\"Signature (tampered msg) valid?\", valid)"
   ]
  },
  {
   "cell_type": "code",
   "execution_count": 3,
   "id": "426790f7",
   "metadata": {},
   "outputs": [
    {
     "name": "stdout",
     "output_type": "stream",
     "text": [
      "\n",
      "Message: 571k Cryptography\n",
      "\n",
      "\n",
      "Signature: r=0x9d7b53658d831d504bfdaaf8779219ed85383f5b874079ef7e176dfb8302bc03, s=0x54f57ba5b5c8d874fc5f5f10c0f5678a034fc0f779105aea7f714995d0871a74\n",
      "\n",
      "\n",
      "Recovered public key from signature: (0x51d0466fa2ff8b206b7724b81a93d6ee9b704b87a1dfdfbb34eb598445c9cc09, 0x7319fe8b0b6b643b1b27279f90433122adae6d500433d719789c5ca03e646125)\n",
      "Recovered public key from signature: (0x6de31c9332d95491003daa0426681530bf5ac7c11d60df39af117587b5fb3088, 0x39c71144d9cc97b1115f47dabd11a7f1ba3c78c2f36f0d607d63cb20d9d13258)\n"
     ]
    }
   ],
   "source": [
    "def recoverPubKeyFromSignature(msg, signature):\n",
    "    \n",
    "    msgHash = sha3_256Hash(msg)\n",
    "\n",
    "    recoveredPubKeys = secp256k1.secp256k1_generator.possible_public_pairs_for_signature(BobPrivKey, signature)\n",
    "    return recoveredPubKeys\n",
    "\n",
    "msg = \"571k Cryptography\"\n",
    "recoveredPubKeys = recoverPubKeyFromSignature(msg, signature)\n",
    "print(\"\\nMessage:\", msg)\n",
    "print(\"\\n\")\n",
    "print(\"Signature: r=\" + hex(signature[0]) + \", s=\" + hex(signature[1]))\n",
    "print(\"\\n\")\n",
    "for pk in recoveredPubKeys:\n",
    "    print(\"Recovered public key from signature: (\" +\n",
    "          hex(pk[0]) + \", \" + hex(pk[1]) + \")\")"
   ]
  }
 ],
 "metadata": {
  "kernelspec": {
   "display_name": "Python 3",
   "language": "python",
   "name": "python3"
  },
  "language_info": {
   "codemirror_mode": {
    "name": "ipython",
    "version": 3
   },
   "file_extension": ".py",
   "mimetype": "text/x-python",
   "name": "python",
   "nbconvert_exporter": "python",
   "pygments_lexer": "ipython3",
   "version": "3.8.2"
  }
 },
 "nbformat": 4,
 "nbformat_minor": 5
}
